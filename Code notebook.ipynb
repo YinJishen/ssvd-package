{
 "cells": [
  {
   "cell_type": "code",
   "execution_count": 57,
   "metadata": {},
   "outputs": [],
   "source": [
    "import numpy as np\n",
    "import scipy.linalg as la\n",
    "from sklearn.linear_model import Lasso, LinearRegression\n",
    "from time import time\n",
    "import matplotlib.pyplot as plt\n",
    "from tqdm import tqdm"
   ]
  },
  {
   "cell_type": "markdown",
   "metadata": {},
   "source": [
    "## Plain Algorithm "
   ]
  },
  {
   "cell_type": "code",
   "execution_count": 58,
   "metadata": {},
   "outputs": [],
   "source": [
    "def sign(x):\n",
    "    \"\"\"\n",
    "    If x is nonzero, return x/|x|, else return 0\n",
    "    \"\"\"\n",
    "    if x>0:\n",
    "        return 1\n",
    "    if x<0:\n",
    "        return -1\n",
    "    if x==0:\n",
    "        return 0\n",
    "\n",
    "def pos(x):\n",
    "    \"\"\"\n",
    "    Return maximum between x and 0\n",
    "    \"\"\"\n",
    "    return max(x, 0)\n",
    "\n",
    "def BIC(x, Y, lambd, var_ols):\n",
    "    \"\"\"\n",
    "    Compute BIC of certain penalty paramter choices\n",
    "    \"\"\"\n",
    "    N = Y.shape[0]\n",
    "    LASSO = Lasso(alpha=lambd, fit_intercept=False, normalize=False).fit(x, Y)\n",
    "    Y_hat = LASSO.predict(x)\n",
    "    df = sum(LASSO.coef_ != 0)\n",
    "    err = sum((Y_hat - Y) ** 2)\n",
    "    return err/(var_ols*N) + np.log(N)*df/N\n",
    "\n",
    "def find_lambda(X, u, w_2):\n",
    "    \"\"\"\n",
    "    Find the lambda with minimal BIC\n",
    "    \"\"\"\n",
    "    n = X.shape[0]\n",
    "    d = X.shape[1]\n",
    "    Y = X.ravel(\"F\")\n",
    "    x = np.kron(np.eye(d), u.reshape(-1, 1))/w_2\n",
    "    Y_ols = LinearRegression(fit_intercept=False).fit(x, Y).predict(x)\n",
    "    var_ols = ((Y-Y_ols)**2).mean()\n",
    "    # find approximate range of minimum \n",
    "    lambdas = np.exp(np.linspace(3, 3.5, 50))\n",
    "    BICS = list(map(lambda lambd: BIC(x, Y, lambd, var_ols), lambdas))\n",
    "    index = np.argmin(BICS)\n",
    "    # precise search\n",
    "    s_lambdas = np.exp(np.linspace(np.log(lambdas[index-1]), np.log(lambdas[index+1]), 100))\n",
    "    s_BICS = list(map(lambda lambd: BIC(x, Y, lambd, var_ols), s_lambdas))\n",
    "    return s_lambdas[np.argmin(s_BICS)]\n",
    "\n",
    "def ssvd(X, gamma_1 = 2, gamma_2 = 2, tol=1e-10, iters=10000):\n",
    "    \"\"\"\n",
    "    Sparse SVD algorithm\n",
    "    \"\"\"\n",
    "    # shapes of X\n",
    "    n = X.shape[0]\n",
    "    d = X.shape[1]\n",
    "    # find starting vectors\n",
    "    U, S, V = la.svd(X)\n",
    "    u_old = U[:, 0]\n",
    "    v_old = V[0, :]\n",
    "    for i in range(iters):\n",
    "        # update v\n",
    "        v_sim = np.zeros(d) ## v_sim initialization\n",
    "        v_sh = X.T @ u_old ## v with sim and hat\n",
    "        w_2 = np.vectorize(lambda x: 0 if x==0 else x**(-gamma_2))(abs(v_sh)) ## find w_2\n",
    "        lambda_v = find_lambda(X, u_old, w_2)\n",
    "        for j in range(d): ## LASSO\n",
    "            v_sim[j] = sign(v_sh[j])*pos(abs(v_sh[j])-lambda_v*w_2[j]/2)\n",
    "        v_new = v_sim / la.norm(v_sim) ## normalization\n",
    "        # update u\n",
    "        u_sim = np.zeros(n) ## v_sim initialization\n",
    "        u_sh = X @ v_new ## v with sim and hat\n",
    "        w_1 = np.vectorize(lambda x: 0 if x==0 else x**(-gamma_1))(abs(u_sh)) ## find w_1\n",
    "        lambda_u = find_lambda(X.T, v_new, w_1)\n",
    "        for j in range(n): ## LASSO\n",
    "            u_sim[j] = sign(u_sh[j])*pos(abs(u_sh[j])-lambda_u*w_1[j]/2)\n",
    "        u_new = u_sim / la.norm(u_sim) ## normalization\n",
    "        # check convergence\n",
    "        if la.norm(u_new - u_old)<tol and la.norm(v_new - v_old)<tol:\n",
    "            break\n",
    "        else:\n",
    "            u_old = u_new\n",
    "            v_old = v_new\n",
    "    return u_new, v_new, u_new.T @ X @ v_new"
   ]
  },
  {
   "cell_type": "markdown",
   "metadata": {},
   "source": [
    "## Optimized Algorithm\n",
    "\n",
    "Starting from the plain sparse SVD algorithm, we finished two types of modification:\n",
    "\n",
    "1. The original algorithm updates each element of $v_{new}$ and $u_{new}$, the modified version vectorized this process.\n",
    "\n",
    "2. When finding the penalty paramter $\\lambda_u$ and $\\lambda_v$, the plain version conducted a rough search followed by a precise search. However, when implementing this algorithm, we found that the rough search is enough for it to find the appropriate $\\lambda$. So we deleted the precise search procedure, which improved the speed a lot but did not change the accuracy."
   ]
  },
  {
   "cell_type": "code",
   "execution_count": 59,
   "metadata": {},
   "outputs": [],
   "source": [
    "def sign_new(x):\n",
    "    \"\"\"\n",
    "    vectorized version of finding signals\n",
    "    \"\"\"\n",
    "    y = x.copy()\n",
    "    y[y!=0] = y[y!=0]/abs(y[y!=0])\n",
    "    return y\n",
    "\n",
    "def pos_new(x):\n",
    "    \"\"\"\n",
    "    vectorized version of finding max(x, 0)\n",
    "    \"\"\"\n",
    "    y = x.copy()\n",
    "    y[y<0] = 0\n",
    "    return y\n",
    "\n",
    "def BIC_new(x, Y, lambd, var_ols):\n",
    "    \"\"\"\n",
    "    vectorized version of computing BIC\n",
    "    \"\"\"\n",
    "    N = Y.shape[0]\n",
    "    beta_ols = la.inv(x.T@x) @ x.T @ Y\n",
    "    beta_lasso = beta_ols * pos_new(1-lambd/beta_ols)\n",
    "    Y_hat = x @ beta_lasso\n",
    "    df = sum(beta_lasso != 0)\n",
    "    err = sum((Y_hat - Y) ** 2)\n",
    "    return err/(var_ols*N) + np.log(N)*df/N\n",
    "\n",
    "def find_lambda_new(X, u, w_2):\n",
    "    \"\"\"\n",
    "    vectorized version of finding lambda without precise search\n",
    "    \"\"\"\n",
    "    n = X.shape[0]\n",
    "    d = X.shape[1]\n",
    "    Y = X.ravel(\"F\")\n",
    "    x = np.kron(np.eye(d), u.reshape(-1, 1))/w_2\n",
    "    Y_ols = x @ la.inv(x.T @ x) @ x.T @ Y\n",
    "    var_ols = ((Y-Y_ols)**2).mean()\n",
    "    \n",
    "    lambdas = np.exp(np.linspace(3, 3.5, 50))\n",
    "    BICS = list(map(lambda lambd: BIC(x, Y, lambd, var_ols), lambdas))\n",
    "    return lambdas[np.argmin(BICS)]\n",
    "\n",
    "def ssvd_new(X, gamma_1 = 2, gamma_2 = 2, tol=1e-10, iters=10000):\n",
    "    \"\"\"\n",
    "    vectorized version of sparse SVD algorithm\n",
    "    \"\"\"\n",
    "    # shapes of X\n",
    "    n = X.shape[0]\n",
    "    d = X.shape[1]\n",
    "    # find starting vectors\n",
    "    U, S, V = la.svd(X)\n",
    "    u_old = U[:, 0]\n",
    "    v_old = V[0, :]\n",
    "    for i in range(iters):\n",
    "        # update v\n",
    "        v_sim = np.zeros(d) ## v_sim initialization\n",
    "        v_sh = X.T @ u_old ## v with sim and hat\n",
    "        w_2 = np.vectorize(lambda x: 0 if x==0 else x**(-gamma_2))(abs(v_sh)) ## find w_2\n",
    "        lambda_v = find_lambda_new(X, u_old, w_2)\n",
    "        v_sim = sign_new(v_sh)*pos_new(abs(v_sh)-lambda_v*w_2/2)\n",
    "        v_new = v_sim / la.norm(v_sim) ## normalization\n",
    "        # update u\n",
    "        u_sim = np.zeros(n) ## v_sim initialization\n",
    "        u_sh = X @ v_new ## v with sim and hat\n",
    "        w_1 = np.vectorize(lambda x: 0 if x==0 else x**(-gamma_1))(abs(u_sh)) ## find w_1\n",
    "        lambda_u = find_lambda_new(X.T, v_new, w_1)\n",
    "        u_sim = sign_new(u_sh)*pos_new(abs(u_sh)-lambda_u*w_1/2)\n",
    "        u_new = u_sim / la.norm(u_sim) ## normalization\n",
    "        # check convergence\n",
    "        if la.norm(u_new - u_old)<tol and la.norm(v_new - v_old)<tol:\n",
    "            break\n",
    "        else:\n",
    "            u_old = u_new\n",
    "            v_old = v_new\n",
    "    return u_new, v_new, u_new.T @ X @ v_new"
   ]
  },
  {
   "cell_type": "markdown",
   "metadata": {},
   "source": [
    "### Speed Comparison"
   ]
  },
  {
   "cell_type": "code",
   "execution_count": 99,
   "metadata": {},
   "outputs": [],
   "source": [
    "u = np.array([10, 9, 8, 7, 6, 5, 4, 3]+[2]*17+[0]*75).reshape(-1, 1)\n",
    "u = u / la.norm(u)\n",
    "v = np.array([10, -10, 8, -8, 5, -5]+[3]*5+[-3]*5+[0]*34).reshape(1, -1)\n",
    "v = v / la.norm(v)\n",
    "X1_ = 50 * u @ v"
   ]
  },
  {
   "cell_type": "code",
   "execution_count": 61,
   "metadata": {},
   "outputs": [
    {
     "name": "stdout",
     "output_type": "stream",
     "text": [
      "10.7 s ± 376 ms per loop (mean ± std. dev. of 3 runs, 3 loops each)\n"
     ]
    }
   ],
   "source": [
    "%timeit -n3 -r3 X1 = X1_ + np.random.normal(size=(100, 50)); ssvd(X1)"
   ]
  },
  {
   "cell_type": "code",
   "execution_count": 62,
   "metadata": {},
   "outputs": [
    {
     "name": "stdout",
     "output_type": "stream",
     "text": [
      "5.84 s ± 180 ms per loop (mean ± std. dev. of 3 runs, 3 loops each)\n"
     ]
    }
   ],
   "source": [
    "%timeit -n3 -r3 X1 = X1_ + np.random.normal(size=(100, 50)); ssvd_new(X1)"
   ]
  },
  {
   "cell_type": "markdown",
   "metadata": {},
   "source": [
    "## Applications to simulated datasets"
   ]
  },
  {
   "cell_type": "markdown",
   "metadata": {},
   "source": [
    "In this section, we report two simulated study of sparse SVD. For both part, we set $\\gamma_1=\\gamma_2=2$ and update $\\lambda_u$ and $\\lambda_v$ in each step with respect to BIC."
   ]
  },
  {
   "cell_type": "markdown",
   "metadata": {},
   "source": [
    "### Case 1: rank-1 matrix approximation\n",
    "\n",
    "Consider a one-rank true signal matrix $X^*=suv^T$ with\n",
    "\n",
    "$\\tilde{u}=[10, 9, 8, 7, 6, 5, 4, 3, r(2, 17), r(0, 75)]^T, u=\\tilde{u}/||\\tilde{u}||$,\n",
    "\n",
    "$\\tilde{v}=[10, −10, 8, −8, 5, −5, r(3, 5), r(−3, 5), r(0, 34)]^T, v=\\tilde{v}/||\\tilde{v}||$,\n",
    "\n",
    "$s=50$\n",
    "\n",
    "A data matrix $X$ is randomly created by adding $X^*$ and a noise matrix $\\epsilon$, where each element is independently generated from standard normal distribution. This process is repeated 100 times. We mainly assessed the model's accuracy of distinguishing zero and nonzero entity in $u$ and $v$."
   ]
  },
  {
   "cell_type": "code",
   "execution_count": 100,
   "metadata": {
    "scrolled": true
   },
   "outputs": [
    {
     "name": "stderr",
     "output_type": "stream",
     "text": [
      "100%|██████████| 100/100 [12:06<00:00,  8.12s/it]"
     ]
    },
    {
     "name": "stdout",
     "output_type": "stream",
     "text": [
      "Cost time: 7.26s per loop\n",
      "\n",
      "Number of zeros in u: 72.87\n",
      "Correctly Labeled zero in u: 0.9705333333333331\n",
      "Correctly Labeled non-zero in u: 0.9967999999999999\n",
      "Misspecification in u: 0.0229 \n",
      "\n",
      "Number of zeros in v: 32.8\n",
      "Correctly Labeled zero in v: 0.9647058823529397\n",
      "Correctly Labeled non-zero in v: 1.0\n",
      "Misspecification in v: 0.024000000000000018 \n",
      "\n"
     ]
    },
    {
     "name": "stderr",
     "output_type": "stream",
     "text": [
      "\n"
     ]
    }
   ],
   "source": [
    "num_zeros_u = []\n",
    "cor_zeros_u = []\n",
    "cor_non_zeros_u = []\n",
    "mis_rate_u = []\n",
    "num_zeros_v = []\n",
    "cor_zeros_v = []\n",
    "cor_non_zeros_v = []\n",
    "mis_rate_v = []\n",
    "\n",
    "np.random.seed(seed=0)\n",
    "start = time()\n",
    "iters = 100\n",
    "with tqdm(total=iters) as pbar:\n",
    "    for i in range(iters):\n",
    "        X1 = X1_ + np.random.normal(size=(100, 50))\n",
    "        u_new, v_new, s_new = ssvd_new(X1)\n",
    "        \n",
    "        num_zeros_u.append((u_new==0).sum())\n",
    "        cor_zeros_u.append(np.logical_and(u_new.reshape(-1, 1)==0, u==0).sum()/75)\n",
    "        cor_non_zeros_u.append(np.logical_and(u_new.reshape(-1, 1)!=0, u!=0).sum()/25)\n",
    "        mis_rate_u.append(np.logical_xor(u_new.reshape(-1, 1)==0, u==0).sum()/100)\n",
    "        \n",
    "        num_zeros_v.append((v_new==0).sum())\n",
    "        cor_zeros_v.append(np.logical_and(v_new.reshape(1, -1)==0, v==0).sum()/34)\n",
    "        cor_non_zeros_v.append(np.logical_and(v_new.reshape(1, -1)!=0, v!=0).sum()/16)\n",
    "        mis_rate_v.append(np.logical_xor(v_new.reshape(1, -1)==0, v==0).sum()/50)\n",
    "        \n",
    "        pbar.update(1)\n",
    "\n",
    "print(\"Cost time: {:.2f}s per loop\\n\".format((time()-start)/iters))\n",
    "\n",
    "avg = lambda x: sum(x)/iters\n",
    "\n",
    "print(\"Number of zeros in u:\", avg(num_zeros_u))\n",
    "print(\"Correctly Labeled zero in u:\", avg(cor_zeros_u))\n",
    "print(\"Correctly Labeled non-zero in u:\", avg(cor_non_zeros_u))\n",
    "print(\"Misspecification in u:\", avg(mis_rate_u), \"\\n\")\n",
    "\n",
    "print(\"Number of zeros in v:\", avg(num_zeros_v))\n",
    "print(\"Correctly Labeled zero in v:\", avg(cor_zeros_v))\n",
    "print(\"Correctly Labeled non-zero in v:\", avg(cor_non_zeros_v))\n",
    "print(\"Misspecification in v:\", avg(mis_rate_v), \"\\n\")"
   ]
  },
  {
   "cell_type": "markdown",
   "metadata": {},
   "source": [
    "SSVD performs pretty well in this rank-1 case. For example, in terms of correctly identifying the true zero and nonzero entries, on average it only misclassifies 1.5% and 1.0% of the entries in u and v, respectively."
   ]
  },
  {
   "cell_type": "markdown",
   "metadata": {},
   "source": [
    "### Case 2: rank-2 matrix approximation\n",
    "\n",
    "Consider a true signal matrix $X^*$ with shape $50\\times100$, where each element $X^*_{ij}=T_{ij}I_{(|T_{ij}|>1)}$ with\n",
    "\n",
    "$$\n",
    "T_{ij}=\\begin{equation}\n",
    "\\left\\{\n",
    "\\begin{array}{lr}\n",
    "[26^2-(i-25)^2-(j-50)^2]/100 &\\text{if } 26\\leq j\\leq 75\\\\\n",
    "0 &\\text{otherwise}\n",
    "\\end{array}\n",
    "\\right.\n",
    "\\end{equation}\n",
    "$$\n",
    "\n",
    "$X^*$ is almost rank-2 in that its eigenvalues are almost zero except the first two. The figure below shows the structure of $X^*$, where the positive entries are red, the negative ones are blue, and the zeros are white.\n",
    "\n",
    "A data matrix $X$ is randomly created by adding $X^*$ and a noise matrix $\\epsilon$, where each element is independently generated from standard normal distribution. This process is repeated 100 times. We mainly assessed the model's accuracy of distinguishing zero and nonzero entity in $u$ and $v$ as well as the distance of fitted matrix to the original matrix as the number of layers increases."
   ]
  },
  {
   "cell_type": "code",
   "execution_count": 91,
   "metadata": {},
   "outputs": [],
   "source": [
    "X2_ = np.zeros(shape=(50, 100))\n",
    "for i in range(50):\n",
    "    for j in range(25, 75):\n",
    "        T = (24**2-(i-24)**2-(j-49)**2)/100\n",
    "        if abs(T) > 1:\n",
    "            X2_[i, j] = T"
   ]
  },
  {
   "cell_type": "code",
   "execution_count": 180,
   "metadata": {},
   "outputs": [
    {
     "data": {
      "image/png": "[encoded data removed]",
      "text/plain": [
       "<Figure size 720x432 with 2 Axes>"
      ]
     },
     "metadata": {
      "needs_background": "light"
     },
     "output_type": "display_data"
    }
   ],
   "source": [
    "plt.figure(figsize=(10, 6))\n",
    "plt.imshow(X2_, cmap='RdBu_r')\n",
    "plt.colorbar()\n",
    "plt.savefig('rank-2-true-signal.jpg')"
   ]
  },
  {
   "cell_type": "code",
   "execution_count": 98,
   "metadata": {},
   "outputs": [],
   "source": [
    "def ssvd_approx(X, layer=1):\n",
    "    residual = X\n",
    "    X_fit = np.zeros(X.shape)\n",
    "    acc = []\n",
    "    f_dist = []\n",
    "    for i in range(layer):\n",
    "        u_new, v_new, s = ssvd_new(residual)\n",
    "        X_fit += s * u_new.reshape(-1, 1) @ v_new.reshape(1, -1)\n",
    "        residual = X - X_fit\n",
    "        acc.append(1 - np.logical_xor(X_fit == 0, X2_ == 0).sum()/(X.shape[0]*X.shape[1]))\n",
    "        f_dist.append(np.sqrt(((X2_ - X_fit)**2).sum()))\n",
    "    return X_fit, acc, f_dist"
   ]
  },
  {
   "cell_type": "code",
   "execution_count": 116,
   "metadata": {},
   "outputs": [],
   "source": [
    "np.random.seed(1)\n",
    "X2 = X2_ + np.random.normal(size=(50, 100))\n",
    "X_fit, acc, f_dist = ssvd_approx(X2, layer=10)"
   ]
  },
  {
   "cell_type": "code",
   "execution_count": 188,
   "metadata": {},
   "outputs": [
    {
     "data": {
      "image/png": "[encoded data removed]",
      "text/plain": [
       "<Figure size 432x288 with 1 Axes>"
      ]
     },
     "metadata": {
      "needs_background": "light"
     },
     "output_type": "display_data"
    }
   ],
   "source": [
    "plt.plot(range(1, 11), acc, color='red', label='SSVD')\n",
    "plt.legend()\n",
    "plt.title('Correctly classified entries')\n",
    "plt.xlabel('Number of Layers')\n",
    "plt.xticks(ticks=range(1, 11), labels=range(1, 11))\n",
    "plt.savefig('acc-ssvd.jpg')\n",
    "plt.show()"
   ]
  },
  {
   "cell_type": "code",
   "execution_count": 189,
   "metadata": {},
   "outputs": [
    {
     "data": {
      "image/png": "[encoded data removed]",
      "text/plain": [
       "<Figure size 432x288 with 1 Axes>"
      ]
     },
     "metadata": {
      "needs_background": "light"
     },
     "output_type": "display_data"
    }
   ],
   "source": [
    "plt.plot(range(1, 11), f_dist, color='red', label='SSVD')\n",
    "plt.legend()\n",
    "plt.title('Frobenius distance')\n",
    "plt.xlabel('Number of Layers')\n",
    "plt.xticks(ticks=range(1, 11), labels=range(1, 11))\n",
    "plt.savefig('f-dist-ssvd.jpg')\n",
    "plt.show()"
   ]
  },
  {
   "cell_type": "markdown",
   "metadata": {},
   "source": [
    "In this case, the Sparse SVD algorithm gives the best approximation when the number of layers is 2. After the minimun point, this model starts to overfit the data."
   ]
  },
  {
   "cell_type": "code",
   "execution_count": null,
   "metadata": {},
   "outputs": [],
   "source": []
  },
  {
   "cell_type": "markdown",
   "metadata": {},
   "source": [
    "## Applications to real datasets"
   ]
  },
  {
   "cell_type": "markdown",
   "metadata": {},
   "source": [
    "The real datasets \"Lung Cancer data\" used in the paper could not be found. So we provide another example of the real-world data that's not in the paper. \n",
    "\n",
    "This dataset contains credit card transactions made by European cardholders in September 2013. Some of them are fraud transactions. For privacy reason, this dataset only has numerical inputs and we don't know exactly what each variable represents. \n",
    "\n",
    "For convenience, we subset only first 100 rows of records to make it as the test matrix $X$. The shape of $X$ is 100 by 28. Each row represents each record of transaction, while each column represents a feature. "
   ]
  },
  {
   "cell_type": "code",
   "execution_count": 102,
   "metadata": {},
   "outputs": [],
   "source": [
    "import pandas as pd"
   ]
  },
  {
   "cell_type": "code",
   "execution_count": 118,
   "metadata": {},
   "outputs": [
    {
     "data": {
      "text/plain": [
       "(100, 28)"
      ]
     },
     "execution_count": 118,
     "metadata": {},
     "output_type": "execute_result"
    }
   ],
   "source": [
    "df_real = pd.read_csv(\"real_data.csv\")\n",
    "df = df_real.drop(['Time', 'Amount', 'Class'], axis = 1)[0:100]\n",
    "X = np.array(df)\n",
    "X.shape"
   ]
  },
  {
   "cell_type": "code",
   "execution_count": 119,
   "metadata": {},
   "outputs": [],
   "source": [
    "def svd(X):\n",
    "    U, S, V = la.svd(X)\n",
    "    return U[:, 0], V[0, :]"
   ]
  },
  {
   "cell_type": "code",
   "execution_count": 125,
   "metadata": {},
   "outputs": [],
   "source": [
    "u = svd(X)[0].reshape(-1, 1)\n",
    "u = np.round(u / la.norm(u), 1)\n",
    "v = svd(X)[1].reshape(1, -1)\n",
    "v = np.round(v / la.norm(v), 1)\n",
    "X1_ = 28 * u @ v"
   ]
  },
  {
   "cell_type": "code",
   "execution_count": 127,
   "metadata": {},
   "outputs": [
    {
     "data": {
      "text/plain": [
       "67"
      ]
     },
     "execution_count": 127,
     "metadata": {},
     "output_type": "execute_result"
    }
   ],
   "source": [
    "np.count_nonzero(u)"
   ]
  },
  {
   "cell_type": "code",
   "execution_count": 128,
   "metadata": {},
   "outputs": [
    {
     "data": {
      "text/plain": [
       "15"
      ]
     },
     "execution_count": 128,
     "metadata": {},
     "output_type": "execute_result"
    }
   ],
   "source": [
    "np.count_nonzero(v)"
   ]
  },
  {
   "cell_type": "code",
   "execution_count": 129,
   "metadata": {},
   "outputs": [
    {
     "name": "stderr",
     "output_type": "stream",
     "text": [
      "100%|██████████| 100/100 [09:14<00:00,  5.03s/it]"
     ]
    },
    {
     "name": "stdout",
     "output_type": "stream",
     "text": [
      "Cost time: 5.54s per loop\n",
      "\n",
      "Number of zeros in u: 45.07\n",
      "Correctly Labeled zero in u: 0.9739393939393933\n",
      "Correctly Labeled non-zero in u: 0.8070149253731347\n",
      "Misspecification in u: 0.13790000000000008 \n",
      "\n",
      "Number of zeros in v: 15.55\n",
      "Correctly Labeled zero in v: 0.9676923076923072\n",
      "Correctly Labeled non-zero in v: 0.8019999999999993\n",
      "Misspecification in v: 0.12107142857142858 \n",
      "\n"
     ]
    },
    {
     "name": "stderr",
     "output_type": "stream",
     "text": [
      "\n"
     ]
    }
   ],
   "source": [
    "num_zeros_u = []\n",
    "cor_zeros_u = []\n",
    "cor_non_zeros_u = []\n",
    "mis_rate_u = []\n",
    "num_zeros_v = []\n",
    "cor_zeros_v = []\n",
    "cor_non_zeros_v = []\n",
    "mis_rate_v = []\n",
    "\n",
    "np.random.seed(seed=0)\n",
    "start = time()\n",
    "iters = 100\n",
    "with tqdm(total=iters) as pbar:\n",
    "    for i in range(iters):\n",
    "        X1 = X1_ + np.random.normal(size=(100, 28))\n",
    "        u_new, v_new, s_new = ssvd_new(X1)\n",
    "        \n",
    "        num_zeros_u.append((u_new==0).sum())\n",
    "        cor_zeros_u.append(np.logical_and(u_new.reshape(-1, 1)==0, u==0).sum()/33)\n",
    "        cor_non_zeros_u.append(np.logical_and(u_new.reshape(-1, 1)!=0, u!=0).sum()/67)\n",
    "        mis_rate_u.append(np.logical_xor(u_new.reshape(-1, 1)==0, u==0).sum()/100)\n",
    "        \n",
    "        num_zeros_v.append((v_new==0).sum())\n",
    "        cor_zeros_v.append(np.logical_and(v_new.reshape(1, -1)==0, v==0).sum()/13)\n",
    "        cor_non_zeros_v.append(np.logical_and(v_new.reshape(1, -1)!=0, v!=0).sum()/15)\n",
    "        mis_rate_v.append(np.logical_xor(v_new.reshape(1, -1)==0, v==0).sum()/28)\n",
    "        \n",
    "        pbar.update(1)\n",
    "\n",
    "print(\"Cost time: {:.2f}s per loop\\n\".format((time()-start)/iters))\n",
    "\n",
    "avg = lambda x: sum(x)/iters\n",
    "\n",
    "print(\"Number of zeros in u:\", avg(num_zeros_u))\n",
    "print(\"Correctly Labeled zero in u:\", avg(cor_zeros_u))\n",
    "print(\"Correctly Labeled non-zero in u:\", avg(cor_non_zeros_u))\n",
    "print(\"Misspecification in u:\", avg(mis_rate_u), \"\\n\")\n",
    "\n",
    "print(\"Number of zeros in v:\", avg(num_zeros_v))\n",
    "print(\"Correctly Labeled zero in v:\", avg(cor_zeros_v))\n",
    "print(\"Correctly Labeled non-zero in v:\", avg(cor_non_zeros_v))\n",
    "print(\"Misspecification in v:\", avg(mis_rate_v), \"\\n\")"
   ]
  },
  {
   "cell_type": "markdown",
   "metadata": {},
   "source": [
    "Following the same testing procedure as we did in rank-1 approximationn in the simulated datasets, we found that the performance is good, but not as good as what we have in the simulated datasets. The misspecification rates in u and v are about 0.14 and 0.12. We could see that this algorithm has a high accuracy of identifying 0 in both vectors. \n",
    "\n",
    "When there're more 0 in both u and v, then it looks that this algorithm has a better performance in terms of labeling non-zero elements. "
   ]
  },
  {
   "cell_type": "markdown",
   "metadata": {},
   "source": [
    "## Comparative analysis with competing algorithms"
   ]
  },
  {
   "cell_type": "markdown",
   "metadata": {},
   "source": [
    "In this section, We compared Sparse SVD algorithm's performance in simulated datasets with two competing methods, which are SVD and Sparse PCA algorithm. "
   ]
  },
  {
   "cell_type": "markdown",
   "metadata": {},
   "source": [
    "### Case 1\n",
    "\n",
    "### SPCA"
   ]
  },
  {
   "cell_type": "code",
   "execution_count": 132,
   "metadata": {},
   "outputs": [],
   "source": [
    "def h(y, lambd):\n",
    "    return y if abs(y) > lambd else 0\n",
    "\n",
    "def spca(X, lambd=1, tol=1e-10, iters=10000):\n",
    "    # shapes of X\n",
    "    n = X.shape[0]\n",
    "    d = X.shape[1]\n",
    "    # find starting vectors\n",
    "    U, S, V = la.svd(X)\n",
    "    u_old = U[:, 0]\n",
    "    v_old = V[0, :] * S[0]\n",
    "    for i in range(iters):\n",
    "        # update v\n",
    "        v_new = np.zeros(d)\n",
    "        for j in range(d):\n",
    "            v_new[j] = h((X.T @ u_old)[j], lambd)\n",
    "        u_new = (X @ v_new) / la.norm(X @ v_new)\n",
    "        # check convergence\n",
    "        if la.norm(u_new - u_old)<tol:\n",
    "            break\n",
    "        else:\n",
    "            u_old = u_new\n",
    "            v_old = v_new\n",
    "    return u_new, v_new"
   ]
  },
  {
   "cell_type": "code",
   "execution_count": 133,
   "metadata": {},
   "outputs": [],
   "source": [
    "u = np.array([10, 9, 8, 7, 6, 5, 4, 3]+[2]*17+[0]*75).reshape(-1, 1)\n",
    "u = u / la.norm(u)\n",
    "v = np.array([10, -10, 8, -8, 5, -5]+[3]*5+[-3]*5+[0]*34).reshape(1, -1)\n",
    "v = v / la.norm(v)\n",
    "X1_ = 50 * u @ v"
   ]
  },
  {
   "cell_type": "code",
   "execution_count": 137,
   "metadata": {},
   "outputs": [
    {
     "name": "stderr",
     "output_type": "stream",
     "text": [
      "100%|███████████████████████████████████████████████████████████████████████████████| 100/100 [00:00<00:00, 223.43it/s]\n"
     ]
    },
    {
     "name": "stdout",
     "output_type": "stream",
     "text": [
      "Result of SPCA(v):\n",
      "Number of zeros in u: 0.0\n",
      "Correctly Labeled zero in u: 0.0\n",
      "Correctly Labeled non-zero in u: 1.0\n",
      "Misspecification in u: 0.75 \n",
      "\n",
      "Number of zeros in v: 34.28\n",
      "Correctly Labeled zero in v: 1.0\n",
      "Correctly Labeled non-zero in v: 0.9825\n",
      "Misspecification in v: 0.005600000000000002 \n",
      "\n"
     ]
    }
   ],
   "source": [
    "num_zeros_u_spcav = []\n",
    "cor_zeros_u_spcav = []\n",
    "cor_non_zeros_u_spcav = []\n",
    "mis_rate_u_spcav = []\n",
    "num_zeros_v_spcav = []\n",
    "cor_zeros_v_spcav = []\n",
    "cor_non_zeros_v_spcav = []\n",
    "mis_rate_v_spcav = []\n",
    "\n",
    "iters=100\n",
    "np.random.seed(2)\n",
    "\n",
    "with tqdm(total=iters) as pbar:\n",
    "    for i in range(iters):\n",
    "        X1 = X1_ + np.random.normal(size=(100, 50))\n",
    "        u_new, v_new = spca(X1, 5)\n",
    "        \n",
    "        num_zeros_u_spcav.append((u_new==0).sum())\n",
    "        cor_zeros_u_spcav.append(np.logical_and(u_new.reshape(-1, 1)==0, u==0).sum()/75)\n",
    "        cor_non_zeros_u_spcav.append(np.logical_and(u_new.reshape(-1, 1)!=0, u!=0).sum()/25)\n",
    "        mis_rate_u_spcav.append(np.logical_xor(u_new.reshape(-1, 1)==0, u==0).sum()/100)\n",
    "        \n",
    "        num_zeros_v_spcav.append((v_new==0).sum())\n",
    "        cor_zeros_v_spcav.append(np.logical_and(v_new.reshape(1, -1)==0, v==0).sum()/34)\n",
    "        cor_non_zeros_v_spcav.append(np.logical_and(v_new.reshape(1, -1)!=0, v!=0).sum()/16)\n",
    "        mis_rate_v_spcav.append(np.logical_xor(v_new.reshape(1, -1)==0, v==0).sum()/50)\n",
    "        \n",
    "        pbar.update(1)\n",
    "\n",
    "print(\"Result of SPCA(v):\")\n",
    "\n",
    "avg = lambda x: sum(x)/iters\n",
    "\n",
    "print(\"Number of zeros in u:\", avg(num_zeros_u_spcav))\n",
    "print(\"Correctly Labeled zero in u:\", avg(cor_zeros_u_spcav))\n",
    "print(\"Correctly Labeled non-zero in u:\", avg(cor_non_zeros_u_spcav))\n",
    "print(\"Misspecification in u:\", avg(mis_rate_u_spcav), \"\\n\")\n",
    "\n",
    "print(\"Number of zeros in v:\", avg(num_zeros_v_spcav))\n",
    "print(\"Correctly Labeled zero in v:\", avg(cor_zeros_v_spcav))\n",
    "print(\"Correctly Labeled non-zero in v:\", avg(cor_non_zeros_v_spcav))\n",
    "print(\"Misspecification in v:\", avg(mis_rate_v_spcav), \"\\n\")"
   ]
  },
  {
   "cell_type": "code",
   "execution_count": 138,
   "metadata": {},
   "outputs": [
    {
     "name": "stderr",
     "output_type": "stream",
     "text": [
      "100%|███████████████████████████████████████████████████████████████████████████████| 100/100 [00:00<00:00, 164.70it/s]\n"
     ]
    },
    {
     "name": "stdout",
     "output_type": "stream",
     "text": [
      "Result of SPCA(u):\n",
      "Number of zeros in u: 75.58\n",
      "Correctly Labeled zero in u: 0.996933333333333\n",
      "Correctly Labeled non-zero in u: 0.9675999999999996\n",
      "Misspecification in u: 0.010400000000000006 \n",
      "\n",
      "Number of zeros in v: 0.0\n",
      "Correctly Labeled zero in v: 0.0\n",
      "Correctly Labeled non-zero in v: 1.0\n",
      "Misspecification in v: 0.6800000000000002 \n",
      "\n"
     ]
    }
   ],
   "source": [
    "num_zeros_u_spcau = []\n",
    "cor_zeros_u_spcau = []\n",
    "cor_non_zeros_u_spcau = []\n",
    "mis_rate_u_spcau = []\n",
    "num_zeros_v_spcau = []\n",
    "cor_zeros_v_spcau = []\n",
    "cor_non_zeros_v_spcau = []\n",
    "mis_rate_v_spcau = []\n",
    "\n",
    "np.random.seed(3)\n",
    "iters=100\n",
    "\n",
    "with tqdm(total=iters) as pbar:\n",
    "    for i in range(iters):\n",
    "        X1 = X1_ + np.random.normal(size=(100, 50))\n",
    "        v_new, u_new = spca(X1.T, 3)\n",
    "        \n",
    "        num_zeros_u_spcau.append((u_new==0).sum())\n",
    "        cor_zeros_u_spcau.append(np.logical_and(u_new.reshape(-1, 1)==0, u==0).sum()/75)\n",
    "        cor_non_zeros_u_spcau.append(np.logical_and(u_new.reshape(-1, 1)!=0, u!=0).sum()/25)\n",
    "        mis_rate_u_spcau.append(np.logical_xor(u_new.reshape(-1, 1)==0, u==0).sum()/100)\n",
    "        \n",
    "        num_zeros_v_spcau.append((v_new==0).sum())\n",
    "        cor_zeros_v_spcau.append(np.logical_and(v_new.reshape(1, -1)==0, v==0).sum()/34)\n",
    "        cor_non_zeros_v_spcau.append(np.logical_and(v_new.reshape(1, -1)!=0, v!=0).sum()/16)\n",
    "        mis_rate_v_spcau.append(np.logical_xor(v_new.reshape(1, -1)==0, v==0).sum()/50)\n",
    "        \n",
    "        pbar.update(1)\n",
    "\n",
    "print(\"Result of SPCA(u):\")\n",
    "\n",
    "avg = lambda x: sum(x)/iters\n",
    "\n",
    "print(\"Number of zeros in u:\", avg(num_zeros_u_spcau))\n",
    "print(\"Correctly Labeled zero in u:\", avg(cor_zeros_u_spcau))\n",
    "print(\"Correctly Labeled non-zero in u:\", avg(cor_non_zeros_u_spcau))\n",
    "print(\"Misspecification in u:\", avg(mis_rate_u_spcau), \"\\n\")\n",
    "\n",
    "print(\"Number of zeros in v:\", avg(num_zeros_v_spcau))\n",
    "print(\"Correctly Labeled zero in v:\", avg(cor_zeros_v_spcau))\n",
    "print(\"Correctly Labeled non-zero in v:\", avg(cor_non_zeros_v_spcau))\n",
    "print(\"Misspecification in v:\", avg(mis_rate_v_spcau), \"\\n\")"
   ]
  },
  {
   "cell_type": "markdown",
   "metadata": {},
   "source": [
    "### SVD"
   ]
  },
  {
   "cell_type": "code",
   "execution_count": 139,
   "metadata": {},
   "outputs": [],
   "source": [
    "def svd(X):\n",
    "    U, S, V = la.svd(X)\n",
    "    return U[:, 0], V[0, :]"
   ]
  },
  {
   "cell_type": "code",
   "execution_count": 140,
   "metadata": {},
   "outputs": [
    {
     "name": "stderr",
     "output_type": "stream",
     "text": [
      "100%|███████████████████████████████████████████████████████████████████████████████| 100/100 [00:00<00:00, 363.27it/s]\n"
     ]
    },
    {
     "name": "stdout",
     "output_type": "stream",
     "text": [
      "Result of SVD:\n",
      "Number of zeros in u: 0.0\n",
      "Correctly Labeled zero in u: 0.0\n",
      "Correctly Labeled non-zero in u: 1.0\n",
      "Misspecification in u: 0.75 \n",
      "\n",
      "Number of zeros in v: 0.0\n",
      "Correctly Labeled zero in v: 0.0\n",
      "Correctly Labeled non-zero in v: 1.0\n",
      "Misspecification in v: 0.6800000000000002 \n",
      "\n"
     ]
    }
   ],
   "source": [
    "num_zeros_u_svd = []\n",
    "cor_zeros_u_svd = []\n",
    "cor_non_zeros_u_svd = []\n",
    "mis_rate_u_svd = []\n",
    "num_zeros_v_svd = []\n",
    "cor_zeros_v_svd = []\n",
    "cor_non_zeros_v_svd = []\n",
    "mis_rate_v_svd = []\n",
    "\n",
    "iters=100\n",
    "\n",
    "with tqdm(total=iters) as pbar:\n",
    "    for i in range(iters):\n",
    "        X1 = X1_ + np.random.normal(size=(100, 50))\n",
    "        u_new, v_new = svd(X1)\n",
    "        \n",
    "        num_zeros_u_svd.append((u_new==0).sum())\n",
    "        cor_zeros_u_svd.append(np.logical_and(u_new.reshape(-1, 1)==0, u==0).sum()/75)\n",
    "        cor_non_zeros_u_svd.append(np.logical_and(u_new.reshape(-1, 1)!=0, u!=0).sum()/25)\n",
    "        mis_rate_u_svd.append(np.logical_xor(u_new.reshape(-1, 1)==0, u==0).sum()/100)\n",
    "        \n",
    "        num_zeros_v_svd.append((v_new==0).sum())\n",
    "        cor_zeros_v_svd.append(np.logical_and(v_new.reshape(1, -1)==0, v==0).sum()/34)\n",
    "        cor_non_zeros_v_svd.append(np.logical_and(v_new.reshape(1, -1)!=0, v!=0).sum()/16)\n",
    "        mis_rate_v_svd.append(np.logical_xor(v_new.reshape(1, -1)==0, v==0).sum()/50)\n",
    "        \n",
    "        pbar.update(1)\n",
    "\n",
    "print(\"Result of SVD:\")\n",
    "\n",
    "avg = lambda x: sum(x)/iters\n",
    "\n",
    "print(\"Number of zeros in u:\", avg(num_zeros_u_svd))\n",
    "print(\"Correctly Labeled zero in u:\", avg(cor_zeros_u_svd))\n",
    "print(\"Correctly Labeled non-zero in u:\", avg(cor_non_zeros_u_svd))\n",
    "print(\"Misspecification in u:\", avg(mis_rate_u_svd), \"\\n\")\n",
    "\n",
    "print(\"Number of zeros in v:\", avg(num_zeros_v_svd))\n",
    "print(\"Correctly Labeled zero in v:\", avg(cor_zeros_v_svd))\n",
    "print(\"Correctly Labeled non-zero in v:\", avg(cor_non_zeros_v_svd))\n",
    "print(\"Misspecification in v:\", avg(mis_rate_v_svd), \"\\n\")"
   ]
  },
  {
   "cell_type": "markdown",
   "metadata": {},
   "source": [
    "| | |Avg.# of zeros(true)|Prop. of correctly identified zero|Prop. of correctly identified non-zero|misspecification rate|\n",
    "|---|---|---|---|---|---|\n",
    "|SSVD|u|72.87(75)|97.1%|96.5%|2.30%|\n",
    "| |v|32.80(35)|99.7%|100.0%|2.40%|\n",
    "|SPCA(u)|u|75.58(75)|99.7%|96.8%|1.04%|\n",
    "| |v|0(35)|0.0%|100.0%|68%|\n",
    "|SPCA(v)|u|0(75)|0.0%|100.0%|75%|\n",
    "| |v|34.28(35)|100.0%|98.3%|0.56%|\n",
    "|SVD|u|0(75)|0.0%|100.0%|75%|\n",
    "| |v|0(35)|0.0%|100.0%|68%|"
   ]
  },
  {
   "cell_type": "markdown",
   "metadata": {},
   "source": [
    "As one can see, SSVD performs much better than the competitors in all four metrics. The classic SVD can only identify non-zero entity without the ability to identify zero entities. For both SPCA(u) and SPCA(v), they can only demonstrate a compelling result in one dimension, either $u$ or $v$. And they perform poorly in the other dimension."
   ]
  },
  {
   "cell_type": "markdown",
   "metadata": {},
   "source": [
    "### Case 2"
   ]
  },
  {
   "cell_type": "code",
   "execution_count": 173,
   "metadata": {},
   "outputs": [],
   "source": [
    "def spca_v_approx(X, lambd=1, layer=1):\n",
    "    residual = X\n",
    "    X_fit = np.zeros(X.shape)\n",
    "    acc = []\n",
    "    f_dist = []\n",
    "    for i in range(layer):\n",
    "        u_new, v_new = spca(residual, lambd)\n",
    "        X_fit += u_new.reshape(-1, 1) @ v_new.reshape(1, -1)\n",
    "        residual = X - X_fit\n",
    "        acc.append(1 - np.logical_xor(X_fit == 0, X2_ == 0).sum()/(X.shape[0]*X.shape[1]))\n",
    "        f_dist.append(np.sqrt(((X2_ - X_fit)**2).sum()))\n",
    "        lambd = lambd/1.1\n",
    "    return X_fit, acc, f_dist\n",
    "\n",
    "def spca_u_approx(X, lambd=1, layer=1):\n",
    "    residual = X\n",
    "    X_fit = np.zeros(X.shape)\n",
    "    acc = []\n",
    "    f_dist = []\n",
    "    for i in range(layer):\n",
    "        v_new, u_new = spca(residual.T, lambd)\n",
    "        X_fit += u_new.reshape(-1, 1) @ v_new.reshape(1, -1)\n",
    "        residual = X - X_fit\n",
    "        acc.append(1 - np.logical_xor(X_fit == 0, X2_ == 0).sum()/(X.shape[0]*X.shape[1]))\n",
    "        f_dist.append(np.sqrt(((X2_ - X_fit)**2).sum()))\n",
    "        lambd = lambd/1.1\n",
    "    return X_fit, acc, f_dist\n",
    "\n",
    "def svd_approx(X, layer=1):\n",
    "    U, S, V = la.svd(X)\n",
    "    acc = []\n",
    "    f_dist = []\n",
    "    for i in range(layer):\n",
    "        if i == 0:\n",
    "            X_fit = S[0] * U[:, 0].reshape(-1, 1) @ V[0, :].reshape(1, -1)\n",
    "        else:\n",
    "            X_fit = U[:, :(i+1)] @ np.diag(S[:(i+1)]) @ V[:(i+1), :]\n",
    "        acc.append(1 - np.logical_xor(X_fit == 0, X2_ == 0).sum()/(X.shape[0]*X.shape[1]))\n",
    "        f_dist.append(np.sqrt(((X2_ - X_fit)**2).sum()))\n",
    "    return X_fit, acc, f_dist"
   ]
  },
  {
   "cell_type": "code",
   "execution_count": 174,
   "metadata": {},
   "outputs": [],
   "source": [
    "np.random.seed(1)\n",
    "X2 = X2_ + np.random.normal(size=(50, 100))\n",
    "X_fit_v, acc_v, f_dist_v = spca_v_approx(X2, layer=10, lambd=5)\n",
    "X_fit_u, acc_u, f_dist_u = spca_u_approx(X2, layer=10, lambd=3)\n",
    "X_fit_svd, acc_svd, f_dist_svd = svd_approx(X2, layer=10)"
   ]
  },
  {
   "cell_type": "code",
   "execution_count": 190,
   "metadata": {},
   "outputs": [
    {
     "data": {
      "image/png": "[encoded data removed]",
      "text/plain": [
       "<Figure size 432x288 with 1 Axes>"
      ]
     },
     "metadata": {
      "needs_background": "light"
     },
     "output_type": "display_data"
    }
   ],
   "source": [
    "plt.plot(range(1, 11), acc, color='red', label='SSVD')\n",
    "plt.plot(range(1, 11), acc_v, color='blue', label='SPCA(v)')\n",
    "plt.plot(range(1, 11), acc_u, color='green', label='SPCA(u)')\n",
    "plt.plot(range(1, 11), acc_svd, color='black', label='SVD')\n",
    "plt.legend()\n",
    "plt.title('Correctly classified entries')\n",
    "plt.xlabel('Number of Layers')\n",
    "plt.xticks(ticks=range(1, 11), labels=range(1, 11))\n",
    "plt.savefig('acc-all.jpg')\n",
    "plt.show()"
   ]
  },
  {
   "cell_type": "code",
   "execution_count": 191,
   "metadata": {},
   "outputs": [
    {
     "data": {
      "image/png": "[encoded data removed]",
      "text/plain": [
       "<Figure size 432x288 with 1 Axes>"
      ]
     },
     "metadata": {
      "needs_background": "light"
     },
     "output_type": "display_data"
    }
   ],
   "source": [
    "plt.plot(range(1, 11), f_dist, color='red', label='SSVD')\n",
    "plt.plot(range(1, 11), f_dist_v, color='blue', label='SPCA(v)')\n",
    "plt.plot(range(1, 11), f_dist_u, color='green', label='SPCA(u)')\n",
    "plt.plot(range(1, 11), f_dist_svd, color='black', label='SVD')\n",
    "plt.legend()\n",
    "plt.title('Frobenius distance')\n",
    "plt.xlabel('Number of Layers')\n",
    "plt.xticks(ticks=range(1, 11), labels=range(1, 11))\n",
    "plt.savefig('f-dist-all.jpg')\n",
    "plt.show()"
   ]
  },
  {
   "cell_type": "markdown",
   "metadata": {},
   "source": [
    "In rank-2 case, SSVD and SPCA(u) performs well when classifying entities while SVD and SPCA(v) has trouble in detecting the sparse structure. Both SSVD and SPCA(u) arrive at maximum accuracy with 2 layers and start to overfit the data with more layers. The accuracy of SPCA(u) decreses rapidly after it exceeds 7 layers. With respect to Frobenius distance, all four methods perform well in approximating the true signal with minimum distance arrived at 2 layers. SSVD has the smallest distance with true signal. In conclusion, SSVD is the best option among these competing algorithms."
   ]
  },
  {
   "cell_type": "code",
   "execution_count": null,
   "metadata": {},
   "outputs": [],
   "source": []
  }
 ],
 "metadata": {
  "kernelspec": {
   "display_name": "Python 3",
   "language": "python",
   "name": "python3"
  },
  "language_info": {
   "codemirror_mode": {
    "name": "ipython",
    "version": 3
   },
   "file_extension": ".py",
   "mimetype": "text/x-python",
   "name": "python",
   "nbconvert_exporter": "python",
   "pygments_lexer": "ipython3",
   "version": "3.7.3"
  }
 },
 "nbformat": 4,
 "nbformat_minor": 2
}
